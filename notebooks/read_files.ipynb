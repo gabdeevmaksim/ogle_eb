{
 "cells": [
  {
   "cell_type": "code",
   "execution_count": 6,
   "metadata": {},
   "outputs": [],
   "source": [
    "import sys\n",
    "import os\n",
    "import pandas as pd\n",
    "\n",
    "sys.path.append(os.path.abspath('../')) \n",
    "\n",
    "from src.eclipsing_binary.config import get_paths"
   ]
  },
  {
   "cell_type": "code",
   "execution_count": 7,
   "metadata": {},
   "outputs": [],
   "source": [
    "paths = get_paths()"
   ]
  },
  {
   "cell_type": "code",
   "execution_count": 32,
   "metadata": {},
   "outputs": [],
   "source": [
    "ecl_col_specs = [(0, 19), (20, 26), (27, 34), (35, 46), (46, 58), (58, 64), (64, 70)]\n",
    "ecl_names = ['object_name', 'I_magnitude', 'V_magnitude', 'period_days', \n",
    "                'epoch_of_minimum', 'main_eclipse_dip', 'second_eclipse_dip']\n",
    "ecl_data_types = [str, float, float, float, float, float, float]\n",
    "ecl_dict = dict(zip(ecl_names,ecl_data_types))\n",
    "ecl_df = pd.read_fwf(paths['ecl_file'], colspecs=ecl_col_specs, names=ecl_names, header=None).astype(ecl_dict, errors='ignore')\n"
   ]
  },
  {
   "cell_type": "code",
   "execution_count": 35,
   "metadata": {},
   "outputs": [
    {
     "name": "stdout",
     "output_type": "stream",
     "text": [
      "<class 'pandas.core.frame.DataFrame'>\n",
      "RangeIndex: 40204 entries, 0 to 40203\n",
      "Data columns (total 7 columns):\n",
      " #   Column              Non-Null Count  Dtype  \n",
      "---  ------              --------------  -----  \n",
      " 0   object_name         40204 non-null  object \n",
      " 1   I_magnitude         40204 non-null  float64\n",
      " 2   V_magnitude         40204 non-null  object \n",
      " 3   period_days         40204 non-null  float64\n",
      " 4   epoch_of_minimum    40204 non-null  float64\n",
      " 5   main_eclipse_dip    40204 non-null  object \n",
      " 6   second_eclipse_dip  40204 non-null  object \n",
      "dtypes: float64(3), object(4)\n",
      "memory usage: 2.1+ MB\n"
     ]
    }
   ],
   "source": [
    "ecl_df.info()"
   ]
  },
  {
   "cell_type": "code",
   "execution_count": 19,
   "metadata": {},
   "outputs": [],
   "source": [
    "ident_col_specs = [(0, 19), (20, 24), (25, 36), (37, 49), (50, 66), (67, 82), (83, 99), (100, 116)]\n",
    "ident_names = ['object_name', 'type', 'RA_coord', 'DEC_coord', 'OGLE-IV', 'OGLE-III', 'OGLE-II', 'other_names']\n",
    "ident_df = pd.read_fwf(paths['ident_file'], colspecs=ident_col_specs, names=ident_names, header=None)"
   ]
  },
  {
   "cell_type": "code",
   "execution_count": 49,
   "metadata": {},
   "outputs": [],
   "source": [
    "ext_col_specs = [(2, 14), (15, 30), (31, 41), (42, 55), (56, 63), (65, 72), (73, 82), (83, 92), (93,102), (103,112), (113,121), (122,130), (131,138), (138,149), (150,161)]\n",
    "ext_names = ['RA_deg', 'Dec_deg',  'RA_h', 'Dec_h', 'E(V-I)', '-sigma1', '+sigma2', '(V-I)_RC', '(V-I)_0', 'E(V-I)peak', 'E(V-I)sfd', 'box', 'sep', 'RA_coord', 'DEC_coord']\n",
    "ext_df = pd.read_fwf(paths['ext_file'], colspecs=ext_col_specs, names=ext_names, header=3)\n",
    "ext_df.drop(ext_df.tail(1).index, inplace=True)"
   ]
  },
  {
   "cell_type": "code",
   "execution_count": 50,
   "metadata": {},
   "outputs": [
    {
     "name": "stdout",
     "output_type": "stream",
     "text": [
      "<class 'pandas.core.frame.DataFrame'>\n",
      "RangeIndex: 40204 entries, 0 to 40203\n",
      "Data columns (total 15 columns):\n",
      " #   Column      Non-Null Count  Dtype  \n",
      "---  ------      --------------  -----  \n",
      " 0   RA_deg      40204 non-null  object \n",
      " 1   Dec_deg     40204 non-null  object \n",
      " 2   RA_h        40204 non-null  float64\n",
      " 3   Dec_h       40204 non-null  float64\n",
      " 4   E(V-I)      40204 non-null  float64\n",
      " 5   -sigma1     40204 non-null  float64\n",
      " 6   +sigma2     40204 non-null  float64\n",
      " 7   (V-I)_RC    40204 non-null  float64\n",
      " 8   (V-I)_0     40204 non-null  float64\n",
      " 9   E(V-I)peak  40204 non-null  float64\n",
      " 10  E(V-I)sfd   40204 non-null  float64\n",
      " 11  box         40204 non-null  float64\n",
      " 12  sep         40204 non-null  float64\n",
      " 13  RA_coord    40204 non-null  object \n",
      " 14  DEC_coord   40204 non-null  object \n",
      "dtypes: float64(11), object(4)\n",
      "memory usage: 4.6+ MB\n"
     ]
    }
   ],
   "source": [
    "ext_df.info()"
   ]
  },
  {
   "cell_type": "code",
   "execution_count": 53,
   "metadata": {},
   "outputs": [],
   "source": [
    "df_merge = ecl_df.merge(ident_df, on='object_name', how='left')"
   ]
  },
  {
   "cell_type": "code",
   "execution_count": 54,
   "metadata": {},
   "outputs": [
    {
     "name": "stdout",
     "output_type": "stream",
     "text": [
      "<class 'pandas.core.frame.DataFrame'>\n",
      "RangeIndex: 40204 entries, 0 to 40203\n",
      "Data columns (total 14 columns):\n",
      " #   Column              Non-Null Count  Dtype  \n",
      "---  ------              --------------  -----  \n",
      " 0   object_name         40204 non-null  object \n",
      " 1   I_magnitude         40204 non-null  float64\n",
      " 2   V_magnitude         40204 non-null  object \n",
      " 3   period_days         40204 non-null  float64\n",
      " 4   epoch_of_minimum    40204 non-null  float64\n",
      " 5   main_eclipse_dip    40204 non-null  object \n",
      " 6   second_eclipse_dip  40204 non-null  object \n",
      " 7   type                40204 non-null  object \n",
      " 8   RA_coord            40204 non-null  object \n",
      " 9   DEC_coord           40204 non-null  object \n",
      " 10  OGLE-IV             40204 non-null  object \n",
      " 11  OGLE-III            40204 non-null  object \n",
      " 12  OGLE-II             40204 non-null  object \n",
      " 13  other_names         166 non-null    object \n",
      "dtypes: float64(3), object(11)\n",
      "memory usage: 4.3+ MB\n"
     ]
    }
   ],
   "source": [
    "df_merge.info()"
   ]
  },
  {
   "cell_type": "code",
   "execution_count": 55,
   "metadata": {},
   "outputs": [],
   "source": [
    "df_merge_plus = df_merge.merge(ext_df, on=['RA_coord','DEC_coord'], how='left')"
   ]
  },
  {
   "cell_type": "code",
   "execution_count": 58,
   "metadata": {},
   "outputs": [
    {
     "data": {
      "text/plain": [
       "object_name           40204\n",
       "I_magnitude            5498\n",
       "V_magnitude            6048\n",
       "period_days           40185\n",
       "epoch_of_minimum      27991\n",
       "main_eclipse_dip       1956\n",
       "second_eclipse_dip      986\n",
       "type                      3\n",
       "RA_coord              38469\n",
       "DEC_coord             36478\n",
       "OGLE-IV               38484\n",
       "OGLE-III              31110\n",
       "OGLE-II                 910\n",
       "other_names             166\n",
       "RA_deg                38469\n",
       "Dec_deg               36478\n",
       "RA_h                  38469\n",
       "Dec_h                 36478\n",
       "E(V-I)                  464\n",
       "-sigma1                 264\n",
       "+sigma2                 330\n",
       "(V-I)_RC                479\n",
       "(V-I)_0                  20\n",
       "E(V-I)peak              475\n",
       "E(V-I)sfd              3685\n",
       "box                       9\n",
       "sep                     453\n",
       "dtype: int64"
      ]
     },
     "execution_count": 58,
     "metadata": {},
     "output_type": "execute_result"
    }
   ],
   "source": [
    "df_merge_plus.nunique()"
   ]
  },
  {
   "cell_type": "code",
   "execution_count": 64,
   "metadata": {},
   "outputs": [
    {
     "name": "stdout",
     "output_type": "stream",
     "text": [
      "              object_name  I_magnitude V_magnitude  period_days  \\\n",
      "21887  OGLE-LMC-ECL-22012       16.952      17.346     7.612962   \n",
      "21888  OGLE-LMC-ECL-22012       16.952      17.346     7.612962   \n",
      "36687  OGLE-LMC-ECL-36840       16.934      17.348     7.613053   \n",
      "36688  OGLE-LMC-ECL-36840       16.934      17.348     7.613053   \n",
      "\n",
      "       epoch_of_minimum main_eclipse_dip second_eclipse_dip type     RA_coord  \\\n",
      "21887         7001.5904            0.403              0.121   NC  05:40:08.97   \n",
      "21888         7001.5904            0.403              0.121   NC  05:40:08.97   \n",
      "36687         7001.6077            0.415              0.115   NC  05:40:08.97   \n",
      "36688         7001.6077            0.415              0.115   NC  05:40:08.97   \n",
      "\n",
      "         DEC_coord  ...      Dec_h E(V-I) -sigma1 +sigma2 (V-I)_RC (V-I)_0  \\\n",
      "21887  -70:37:17.9  ... -70.621639  0.326   0.128   0.156    1.212   0.886   \n",
      "21888  -70:37:17.9  ... -70.621639  0.326   0.128   0.156    1.212   0.886   \n",
      "36687  -70:37:17.9  ... -70.621639  0.326   0.128   0.156    1.212   0.886   \n",
      "36688  -70:37:17.9  ... -70.621639  0.326   0.128   0.156    1.212   0.886   \n",
      "\n",
      "       E(V-I)peak  E(V-I)sfd  box   sep  \n",
      "21887       0.323      1.149  3.4  0.43  \n",
      "21888       0.323      1.149  3.4  0.43  \n",
      "36687       0.323      1.149  3.4  0.43  \n",
      "36688       0.323      1.149  3.4  0.43  \n",
      "\n",
      "[4 rows x 27 columns]\n"
     ]
    }
   ],
   "source": [
    "duplicate_rows = df_merge_plus[df_merge_plus.duplicated(subset=['RA_coord', 'DEC_coord'], keep=False)]\n",
    "print(duplicate_rows)"
   ]
  },
  {
   "cell_type": "code",
   "execution_count": 65,
   "metadata": {},
   "outputs": [
    {
     "name": "stdout",
     "output_type": "stream",
     "text": [
      "<class 'pandas.core.frame.DataFrame'>\n",
      "Index: 40204 entries, 0 to 40205\n",
      "Data columns (total 27 columns):\n",
      " #   Column              Non-Null Count  Dtype  \n",
      "---  ------              --------------  -----  \n",
      " 0   object_name         40204 non-null  object \n",
      " 1   I_magnitude         40204 non-null  float64\n",
      " 2   V_magnitude         40204 non-null  object \n",
      " 3   period_days         40204 non-null  float64\n",
      " 4   epoch_of_minimum    40204 non-null  float64\n",
      " 5   main_eclipse_dip    40204 non-null  object \n",
      " 6   second_eclipse_dip  40204 non-null  object \n",
      " 7   type                40204 non-null  object \n",
      " 8   RA_coord            40204 non-null  object \n",
      " 9   DEC_coord           40204 non-null  object \n",
      " 10  OGLE-IV             40204 non-null  object \n",
      " 11  OGLE-III            40204 non-null  object \n",
      " 12  OGLE-II             40204 non-null  object \n",
      " 13  other_names         166 non-null    object \n",
      " 14  RA_deg              40204 non-null  object \n",
      " 15  Dec_deg             40204 non-null  object \n",
      " 16  RA_h                40204 non-null  float64\n",
      " 17  Dec_h               40204 non-null  float64\n",
      " 18  E(V-I)              40204 non-null  float64\n",
      " 19  -sigma1             40204 non-null  float64\n",
      " 20  +sigma2             40204 non-null  float64\n",
      " 21  (V-I)_RC            40204 non-null  float64\n",
      " 22  (V-I)_0             40204 non-null  float64\n",
      " 23  E(V-I)peak          40204 non-null  float64\n",
      " 24  E(V-I)sfd           40204 non-null  float64\n",
      " 25  box                 40204 non-null  float64\n",
      " 26  sep                 40204 non-null  float64\n",
      "dtypes: float64(14), object(13)\n",
      "memory usage: 8.6+ MB\n"
     ]
    }
   ],
   "source": [
    "df_merge_plus.drop_duplicates('object_name').info()"
   ]
  },
  {
   "cell_type": "code",
   "execution_count": null,
   "metadata": {},
   "outputs": [],
   "source": []
  }
 ],
 "metadata": {
  "kernelspec": {
   "display_name": ".venv",
   "language": "python",
   "name": "python3"
  },
  "language_info": {
   "codemirror_mode": {
    "name": "ipython",
    "version": 3
   },
   "file_extension": ".py",
   "mimetype": "text/x-python",
   "name": "python",
   "nbconvert_exporter": "python",
   "pygments_lexer": "ipython3",
   "version": "3.12.6"
  }
 },
 "nbformat": 4,
 "nbformat_minor": 2
}
